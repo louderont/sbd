{
 "cells": [
  {
   "cell_type": "markdown",
   "metadata": {},
   "source": [
    "# Model benchmarks"
   ]
  },
  {
   "cell_type": "markdown",
   "metadata": {},
   "source": [
    "## Imports"
   ]
  },
  {
   "cell_type": "code",
   "execution_count": 26,
   "metadata": {},
   "outputs": [],
   "source": [
    "import pandas as pd\n",
    "import numpy as np\n",
    "from os import path\n",
    "import pickle\n",
    "import matplotlib.pyplot as plt\n",
    "\n",
    "from sklearn.metrics import f1_score, precision_score, recall_score, classification_report,\\\n",
    "    make_scorer, precision_recall_curve, auc\n",
    "from sklearn.experimental import enable_halving_search_cv\n",
    "from sklearn.model_selection import HalvingGridSearchCV, train_test_split\n",
    "\n",
    "from sbdetection.models import baseline\n",
    "from sbdetection.utils import NltkCorpusReader\n",
    "from sbdetection.preprocessing.preprocessor import feature_extraction, \\\n",
    "    sentences_to_binary_target, binary_target_to_sentences\n",
    "from sbdetection.models.MLBased import get_estimator"
   ]
  },
  {
   "cell_type": "markdown",
   "metadata": {},
   "source": [
    "## Import data from nltk corpus : treebank, brown,  inaugural"
   ]
  },
  {
   "cell_type": "markdown",
   "metadata": {},
   "source": [
    "### Train data"
   ]
  },
  {
   "cell_type": "code",
   "execution_count": 4,
   "metadata": {},
   "outputs": [
    {
     "name": "stdout",
     "output_type": "stream",
     "text": [
      "Corpus: treebank: len - 3000 / avg sent len - 135\n"
     ]
    }
   ],
   "source": [
    "treebank_sample = NltkCorpusReader(corpus_name='treebank', from_sentence=0, to_sentence=3000)\n",
    "treebank_text = treebank_sample.corpus_full_text"
   ]
  },
  {
   "cell_type": "code",
   "execution_count": 5,
   "metadata": {},
   "outputs": [
    {
     "name": "stdout",
     "output_type": "stream",
     "text": [
      "Corpus: brown: len - 3000 / avg sent len - 73\n"
     ]
    }
   ],
   "source": [
    "brown_sample = NltkCorpusReader(corpus_name='brown', from_sentence=0, to_sentence=3000, extra_args={'categories': ['romance']})\n",
    "brown_text = brown_sample.corpus_full_text"
   ]
  },
  {
   "cell_type": "code",
   "execution_count": 6,
   "metadata": {},
   "outputs": [
    {
     "name": "stdout",
     "output_type": "stream",
     "text": [
      "Corpus: gutenberg: len - 29996 / avg sent len - 136\n"
     ]
    }
   ],
   "source": [
    "gutenberg_sample = NltkCorpusReader(corpus_name='gutenberg', from_sentence=4, to_sentence=30_000) # ignore headline\n",
    "gutenberg_text = gutenberg_sample.corpus_full_text"
   ]
  },
  {
   "cell_type": "markdown",
   "metadata": {},
   "source": [
    "## Preprocessing\n",
    "Tokenize (with a defined tokenizer) and generate a set with one token per row and a target binary column: whether a token is the end of a sentence."
   ]
  },
  {
   "cell_type": "code",
   "execution_count": 7,
   "metadata": {},
   "outputs": [],
   "source": [
    "# nltk corpus sets\n",
    "df_feature_brown = sentences_to_binary_target(brown_sample.sentence_sample)\n",
    "df_feature_treebank = sentences_to_binary_target(treebank_sample.sentence_sample)\n",
    "df_feature_gutenberg = sentences_to_binary_target(gutenberg_sample.sentence_sample)"
   ]
  },
  {
   "cell_type": "code",
   "execution_count": 8,
   "metadata": {},
   "outputs": [],
   "source": [
    "# test gutenberg\n",
    "test_sentences_reverse = binary_target_to_sentences(df_feature_gutenberg)\n",
    "assert len(gutenberg_sample.sentence_sample) == len(test_sentences_reverse)"
   ]
  },
  {
   "cell_type": "code",
   "execution_count": 9,
   "metadata": {},
   "outputs": [],
   "source": [
    "# test treebank\n",
    "test_sentences_reverse = binary_target_to_sentences(df_feature_treebank)\n",
    "assert len(treebank_sample.sentence_sample) == len(test_sentences_reverse)"
   ]
  },
  {
   "cell_type": "code",
   "execution_count": 10,
   "metadata": {},
   "outputs": [],
   "source": [
    "# test brown\n",
    "test_sentences_reverse = binary_target_to_sentences(df_feature_brown)\n",
    "assert len(brown_sample.sentence_sample) == len(test_sentences_reverse)"
   ]
  },
  {
   "cell_type": "markdown",
   "metadata": {},
   "source": [
    "#### Datasets descriptive statistic\n",
    "Class repartition: \n",
    "\n",
    "class 0: non ending token\n",
    "\n",
    "class 1: ending token"
   ]
  },
  {
   "cell_type": "code",
   "execution_count": 11,
   "metadata": {},
   "outputs": [],
   "source": [
    "# descriptive analysis utils\n",
    "cnd_full_stop = lambda x:('.' in x)|('?' in x)|('!' in x)\n",
    "mask_full_stop = lambda y:y['token'].apply(cnd_full_stop)==1\n",
    "def part_full_stop_end(df):\n",
    "    \"\"\"Part of tokens containing a full stops that is a punctuation end\"\"\"\n",
    "    return round(df.loc[mask_full_stop(df), 'target'].mean(), 2)\n",
    "\n",
    "def token_class_repartition(df):\n",
    "    return np.round(df['target'].value_counts()/len(df), 3).values"
   ]
  },
  {
   "cell_type": "code",
   "execution_count": 14,
   "metadata": {},
   "outputs": [],
   "source": [
    "sample_set = {\n",
    "'Treebank':{\"text\":treebank_text,\"target\":df_feature_treebank},\n",
    "'Gutenberg':{\"text\":gutenberg_text,\"target\":df_feature_gutenberg},\n",
    "'Brown':{\"text\":brown_text, \"target\":df_feature_brown},\n",
    "}"
   ]
  },
  {
   "cell_type": "code",
   "execution_count": 13,
   "metadata": {},
   "outputs": [
    {
     "name": "stdout",
     "output_type": "stream",
     "text": [
      "Treebank sample set\n",
      "Class reparation \n",
      "[0 1]\n",
      "[0.956 0.044]\n",
      "Part of tokens containing a full stops that is a punctuation end: 0.65\n",
      "----------------------------------------------\n",
      "Gutenberg sample set\n",
      "Class reparation \n",
      "[0 1]\n",
      "[0.961 0.039]\n",
      "Part of tokens containing a full stops that is a punctuation end: 0.88\n",
      "----------------------------------------------\n",
      "Brown sample set\n",
      "Class reparation \n",
      "[0 1]\n",
      "[0.925 0.075]\n",
      "Part of tokens containing a full stops that is a punctuation end: 0.98\n",
      "----------------------------------------------\n"
     ]
    }
   ],
   "source": [
    "# print statistics\n",
    "for corpus, dataset in sample_set.items():\n",
    "    print(f'{corpus} sample set')\n",
    "    print(f'Class reparation \\n[0 1]\\n{token_class_repartition(dataset[\"target\"])}')\n",
    "    print(f'Part of tokens containing a full stops that is a punctuation end: {part_full_stop_end(dataset[\"target\"])}')\n",
    "    print('----------------------------------------------')"
   ]
  },
  {
   "cell_type": "markdown",
   "metadata": {},
   "source": [
    "The repartition of tokens in class 1 and class 0 is very imbalanced in all dataset and around 95%-5%.\\\n",
    "The part of tokens containing a full stops that is an actual sentence end varies more and goes from 0.64 to 0.94."
   ]
  },
  {
   "cell_type": "markdown",
   "metadata": {},
   "source": [
    "## Baseline performances on test"
   ]
  },
  {
   "cell_type": "markdown",
   "metadata": {},
   "source": [
    "#### Application"
   ]
  },
  {
   "cell_type": "code",
   "execution_count": 14,
   "metadata": {},
   "outputs": [
    {
     "name": "stdout",
     "output_type": "stream",
     "text": [
      "CPU times: user 2min 5s, sys: 12.9 s, total: 2min 18s\n",
      "Wall time: 2min 20s\n"
     ]
    }
   ],
   "source": [
    "%%time\n",
    "baseline_predictions = {}\n",
    "# get target prediction form sentences in the test set using the rule based baseline detection\n",
    "for corpus, dataset in sample_set.items():\n",
    "    text = dataset[\"text\"]\n",
    "    baseline_predictions[corpus] = sentences_to_binary_target(baseline.predict_sentences(text))"
   ]
  },
  {
   "cell_type": "markdown",
   "metadata": {},
   "source": [
    "#### Evaluation"
   ]
  },
  {
   "cell_type": "code",
   "execution_count": 15,
   "metadata": {},
   "outputs": [
    {
     "name": "stdout",
     "output_type": "stream",
     "text": [
      "Treebank sample set\n",
      "f1 score: 0.84\n",
      "precision: 0.97\n",
      "recall: 0.73\n",
      "----------------------------------------------\n",
      "Gutenberg sample set\n",
      "f1 score: 0.84\n",
      "precision: 1.0\n",
      "recall: 0.72\n",
      "----------------------------------------------\n",
      "Brown sample set\n",
      "f1 score: 0.89\n",
      "precision: 1.0\n",
      "recall: 0.8\n",
      "----------------------------------------------\n"
     ]
    }
   ],
   "source": [
    "# print a classification report for the test set using scikit-learn\n",
    "for corpus, dataset in sample_set.items():\n",
    "    y_true = dataset[\"target\"][\"target\"]\n",
    "    y_pred = baseline_predictions[corpus][\"target\"]\n",
    "    print(f'{corpus} sample set')\n",
    "    print(f'f1 score: {round(f1_score(y_true, y_pred), 2)}')\n",
    "    print(f'precision: {round(precision_score(y_true, y_pred), 2)}')\n",
    "    print(f'recall: {round(recall_score(y_true, y_pred), 2)}')\n",
    "    print('----------------------------------------------')"
   ]
  },
  {
   "cell_type": "markdown",
   "metadata": {},
   "source": [
    "## Trained model part"
   ]
  },
  {
   "cell_type": "markdown",
   "metadata": {},
   "source": [
    "### Feature extraction\n",
    "frequency of the word\n",
    " in the text"
   ]
  },
  {
   "cell_type": "code",
   "execution_count": 15,
   "metadata": {},
   "outputs": [],
   "source": [
    "shifts = {\"current\": 0, \"next\": -1}\n",
    "for corpus, dataset in sample_set.items():\n",
    "    # feature extraction\n",
    "    _data = feature_extraction(dataset['target'], shifts)\n",
    "    assert _data.isnull().sum().sum() == 0\n",
    "    # split data into features (X) and target (y)\n",
    "    dataset['data_feature'] = _data\n",
    "    dataset['X_feature'] = _data.drop(['token', 'target'], axis=1)\n",
    "    dataset['y_feature'] = _data['target']"
   ]
  },
  {
   "cell_type": "markdown",
   "metadata": {},
   "source": [
    "## Estimator comparison and hyperparameter opti"
   ]
  },
  {
   "cell_type": "code",
   "execution_count": 29,
   "metadata": {},
   "outputs": [],
   "source": [
    "# utils plot precision recall curve\n",
    "def plot_precision_recall_curve(_X_test, _y_test, model):\n",
    "    \"\"\"\n",
    "    Plot precision recall curve for the class 1\n",
    "    \"\"\"\n",
    "    # probabilities prediction\n",
    "    lr_probs = model.predict_proba(_X_test)\n",
    "    # keep probabilities for the positive outcome only (minority class)\n",
    "    lr_probs = lr_probs[:, 1]\n",
    "    lr_precision, lr_recall, _ = precision_recall_curve(_y_test, lr_probs)\n",
    "\n",
    "    # scoring\n",
    "    lr_auc = auc(lr_recall, lr_precision)\n",
    "    print('RF: auc=%.3f' % (lr_auc))\n",
    "    \n",
    "    plt.plot(lr_recall, lr_precision, marker='.', label='trained_model')\n",
    "    plt.xlabel('Recall')\n",
    "    plt.ylabel('Precision')\n",
    "    plt.legend()\n",
    "    plt.show()"
   ]
  },
  {
   "cell_type": "code",
   "execution_count": 21,
   "metadata": {},
   "outputs": [],
   "source": [
    "# split the Gutenberg set in train, text\n",
    "X = sample_set['Gutenberg']['data_feature'].drop(['target', 'token'], axis=1)\n",
    "y = sample_set['Gutenberg']['data_feature']['target']\n",
    "X_train, X_test, y_train, y_test = train_test_split(X, y, test_size=0.2, random_state=1)"
   ]
  },
  {
   "cell_type": "markdown",
   "metadata": {},
   "source": [
    "#### Logistic Regression Hyperparameter optimization"
   ]
  },
  {
   "cell_type": "code",
   "execution_count": 23,
   "metadata": {},
   "outputs": [
    {
     "name": "stdout",
     "output_type": "stream",
     "text": [
      "0.9652015857685153\n",
      "LogisticRegression(C=1, max_iter=1000, random_state=1)\n"
     ]
    }
   ],
   "source": [
    "# estimator definition\n",
    "LR_clf = get_estimator('LR', parameters=None)\n",
    "\n",
    "# parameter grid for grid search\n",
    "parameters = {'penalty':['none', 'l2'],\n",
    "              'C':[1, 0.1, 0.01],\n",
    "              'class_weight':[None, 'balanced'],\n",
    "              'max_iter':[1000]\n",
    "              }\n",
    "\n",
    "# HalvingGridSearch\n",
    "LR_gridsearch = HalvingGridSearchCV(\n",
    "    LR_clf,\n",
    "    parameters,\n",
    "    scoring = make_scorer(f1_score)\n",
    ")\n",
    "\n",
    "LR_gridsearch.fit(X_train, y_train)\n",
    "print(LR_gridsearch.best_score_)\n",
    "print(LR_gridsearch.best_estimator_)"
   ]
  },
  {
   "cell_type": "code",
   "execution_count": 42,
   "metadata": {},
   "outputs": [
    {
     "name": "stdout",
     "output_type": "stream",
     "text": [
      "RF: auc=0.989\n"
     ]
    },
    {
     "data": {
      "image/png": "[encoded data removed]",
      "text/plain": [
       "<Figure size 432x288 with 1 Axes>"
      ]
     },
     "metadata": {
      "needs_background": "light"
     },
     "output_type": "display_data"
    }
   ],
   "source": [
    "plot_precision_recall_curve(X_test, y_test, LR_gridsearch.best_estimator_)"
   ]
  },
  {
   "cell_type": "markdown",
   "metadata": {},
   "source": [
    "#### RandomForestClassifier Hyperparameter optimization"
   ]
  },
  {
   "cell_type": "code",
   "execution_count": 24,
   "metadata": {},
   "outputs": [
    {
     "name": "stdout",
     "output_type": "stream",
     "text": [
      "0.9894303802396524\n",
      "RandomForestClassifier(max_depth=10, random_state=1)\n"
     ]
    }
   ],
   "source": [
    "# estimator definition\n",
    "RFC_clf = get_estimator('RFC', parameters=None)\n",
    "\n",
    "# parameter grid for grid search\n",
    "parameters = {'n_estimators':[50, 100],\n",
    "              'criterion':['gini', 'entropy'],\n",
    "              'max_depth':[3, 5, 10],\n",
    "              'class_weight':[None, 'balanced']\n",
    "              }\n",
    "\n",
    "# HalvingGridSearch\n",
    "RFC_gridsearch = HalvingGridSearchCV(\n",
    "    RFC_clf,\n",
    "    parameters,\n",
    "    scoring = make_scorer(f1_score)\n",
    ")\n",
    "\n",
    "RFC_gridsearch.fit(X_train, y_train)\n",
    "print(RFC_gridsearch.best_score_)\n",
    "print(RFC_gridsearch.best_estimator_)"
   ]
  },
  {
   "cell_type": "markdown",
   "metadata": {},
   "source": [
    "#### precision recall curve"
   ]
  },
  {
   "cell_type": "code",
   "execution_count": 30,
   "metadata": {},
   "outputs": [
    {
     "name": "stdout",
     "output_type": "stream",
     "text": [
      "RF: auc=0.998\n"
     ]
    },
    {
     "data": {
      "image/png": "[encoded data removed]",
      "text/plain": [
       "<Figure size 432x288 with 1 Axes>"
      ]
     },
     "metadata": {
      "needs_background": "light"
     },
     "output_type": "display_data"
    }
   ],
   "source": [
    "plot_precision_recall_curve(X_test, y_test, RFC_gridsearch.best_estimator_)"
   ]
  },
  {
   "cell_type": "markdown",
   "metadata": {},
   "source": [
    "#### XGBoost Hyperparameter optimization"
   ]
  },
  {
   "cell_type": "code",
   "execution_count": 44,
   "metadata": {},
   "outputs": [
    {
     "name": "stdout",
     "output_type": "stream",
     "text": [
      "0.9891683772645934\n",
      "XGBClassifier(base_score=0.5, booster='gbtree', colsample_bylevel=1,\n",
      "              colsample_bynode=1, colsample_bytree=1, enable_categorical=False,\n",
      "              gamma=0, gpu_id=-1, importance_type=None,\n",
      "              interaction_constraints='', learning_rate=0.300000012,\n",
      "              max_delta_step=0, max_depth=5, min_child_weight=1, missing=nan,\n",
      "              monotone_constraints='()', n_estimators=50, n_jobs=8,\n",
      "              num_parallel_tree=1, predictor='auto', random_state=1,\n",
      "              reg_alpha=0, reg_lambda=1, scale_pos_weight=1, subsample=1,\n",
      "              tree_method='exact', validate_parameters=1, verbosity=None)\n"
     ]
    }
   ],
   "source": [
    "# estimator definition\n",
    "XGB_clf = get_estimator('XGB', parameters=None)\n",
    "\n",
    "# parameter grid for grid search\n",
    "parameters = {'n_estimators':[50, 100],\n",
    "              'max_depth':[3, 5, 10],\n",
    "              }\n",
    "\n",
    "# HalvingGridSearch\n",
    "XGB_gridsearch = HalvingGridSearchCV(\n",
    "    XGB_clf,\n",
    "    parameters,\n",
    "    scoring = make_scorer(f1_score)\n",
    ")\n",
    "\n",
    "XGB_gridsearch.fit(X_train, y_train)\n",
    "print(XGB_gridsearch.best_score_)\n",
    "print(XGB_gridsearch.best_estimator_)"
   ]
  },
  {
   "cell_type": "code",
   "execution_count": 46,
   "metadata": {},
   "outputs": [
    {
     "name": "stderr",
     "output_type": "stream",
     "text": [
      "/usr/local/anaconda3/envs/py38_sbd/lib/python3.8/site-packages/xgboost/data.py:262: FutureWarning: pandas.Int64Index is deprecated and will be removed from pandas in a future version. Use pandas.Index with the appropriate dtype instead.\n",
      "  elif isinstance(data.columns, (pd.Int64Index, pd.RangeIndex)):\n"
     ]
    },
    {
     "name": "stdout",
     "output_type": "stream",
     "text": [
      "RF: auc=0.998\n"
     ]
    },
    {
     "data": {
      "image/png": "[encoded data removed]",
      "text/plain": [
       "<Figure size 432x288 with 1 Axes>"
      ]
     },
     "metadata": {
      "needs_background": "light"
     },
     "output_type": "display_data"
    }
   ],
   "source": [
    "plot_precision_recall_curve(X_test, y_test, XGB_gridsearch.best_estimator_)"
   ]
  },
  {
   "cell_type": "markdown",
   "metadata": {},
   "source": [
    "### Test on test sets"
   ]
  },
  {
   "cell_type": "code",
   "execution_count": 55,
   "metadata": {},
   "outputs": [
    {
     "data": {
      "text/plain": [
       "RandomForestClassifier(max_depth=10, random_state=1)"
      ]
     },
     "execution_count": 55,
     "metadata": {},
     "output_type": "execute_result"
    }
   ],
   "source": [
    "# refit the RFC gridsearch best estimators on the total X_train\n",
    "model_train = RFC_gridsearch.best_estimator_\n",
    "model_train.fit(X, y)"
   ]
  },
  {
   "cell_type": "code",
   "execution_count": 56,
   "metadata": {},
   "outputs": [
    {
     "name": "stdout",
     "output_type": "stream",
     "text": [
      "Brown sample set\n",
      "              precision    recall  f1-score   support\n",
      "\n",
      "           0       1.00      1.00      1.00     37251\n",
      "           1       0.94      1.00      0.97      2833\n",
      "\n",
      "    accuracy                           1.00     40084\n",
      "   macro avg       0.97      1.00      0.98     40084\n",
      "weighted avg       1.00      1.00      1.00     40084\n",
      "\n",
      "----------------------------------------------\n",
      "Treebank sample set\n",
      "              precision    recall  f1-score   support\n",
      "\n",
      "           0       0.99      1.00      1.00     65236\n",
      "           1       0.96      0.88      0.92      3271\n",
      "\n",
      "    accuracy                           0.99     68507\n",
      "   macro avg       0.98      0.94      0.96     68507\n",
      "weighted avg       0.99      0.99      0.99     68507\n",
      "\n",
      "----------------------------------------------\n"
     ]
    }
   ],
   "source": [
    "for corpus in ['Brown', 'Treebank']:\n",
    "    _X_test = sample_set[corpus]['X_feature']\n",
    "    _y_test = sample_set[corpus]['y_feature']\n",
    "    print(f'{corpus} sample set')\n",
    "    print(classification_report(model_train.predict(_X_test), _y_test))\n",
    "    print('----------------------------------------------')"
   ]
  },
  {
   "cell_type": "markdown",
   "metadata": {},
   "source": [
    "## Serialize model as pkl"
   ]
  },
  {
   "cell_type": "markdown",
   "metadata": {},
   "source": [
    "#### Serialize"
   ]
  },
  {
   "cell_type": "code",
   "execution_count": 24,
   "metadata": {},
   "outputs": [],
   "source": [
    "model_train = RFC_gridsearch.best_estimator_\n",
    "pickle.dump(model_train, open('model_rfc_gs.pkl', 'wb'))"
   ]
  }
 ],
 "metadata": {
  "interpreter": {
   "hash": "abf2900e97e49059a1f591526c9ab3a797c89e6b83224b24ca91b173692739f4"
  },
  "kernelspec": {
   "display_name": "Python 3.9.7 64-bit ('py39_sbd': conda)",
   "name": "python3"
  },
  "language_info": {
   "codemirror_mode": {
    "name": "ipython",
    "version": 3
   },
   "file_extension": ".py",
   "mimetype": "text/x-python",
   "name": "python",
   "nbconvert_exporter": "python",
   "pygments_lexer": "ipython3",
   "version": "3.8.12"
  },
  "orig_nbformat": 4
 },
 "nbformat": 4,
 "nbformat_minor": 2
}
